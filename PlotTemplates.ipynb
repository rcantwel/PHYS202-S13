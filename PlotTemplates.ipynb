{
 "metadata": {
  "name": "PlotTemplates"
 },
 "nbformat": 3,
 "nbformat_minor": 0,
 "worksheets": [
  {
   "cells": [
    {
     "cell_type": "markdown",
     "metadata": {},
     "source": [
      "###Publication ready plot template\n",
      "\n",
      "######Simple graphing template for matplotlib functions and data plots."
     ]
    },
    {
     "cell_type": "markdown",
     "metadata": {},
     "source": [
      "####Line plots"
     ]
    },
    {
     "cell_type": "code",
     "collapsed": false,
     "input": [
      "E = cosh(y)\n",
      "p = sinh(y)"
     ],
     "language": "python",
     "metadata": {},
     "outputs": []
    }
   ],
   "metadata": {}
  }
 ]
}