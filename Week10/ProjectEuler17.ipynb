{
 "metadata": {
  "name": "ProjectEuler17"
 },
 "nbformat": 3,
 "nbformat_minor": 0,
 "worksheets": [
  {
   "cells": [
    {
     "cell_type": "code",
     "collapsed": false,
     "input": [
      "def number_letters(x,y):\n",
      "    numbers = [\"zero\", \"one\", \"two\",\"three\",\"four\", \"five\", \"six\", \"seven\", \"eight\",\"nine\",\n",
      "\"ten\",\"eleven\",\"twelve\",\"thirteen\",\"fourteen\",\"fifteen\",\"sixteen\",\"seventeen\",\"eighteen\",\"nineteen\",\n",
      "\"twenty\", \"thirty\",\"forty\",\"fifty\",\"sixty\",\"seventy\",\"eighty\",\"ninety\", \"one hundred\", \"one thousand\"]\n",
      "    for i in numbers: \n",
      "        return len(numbers)\n",
      "print len((numbers[0]))\n"
     ],
     "language": "python",
     "metadata": {},
     "outputs": [
      {
       "output_type": "stream",
       "stream": "stdout",
       "text": [
        "4\n"
       ]
      }
     ],
     "prompt_number": 26
    },
    {
     "cell_type": "code",
     "collapsed": false,
     "input": [],
     "language": "python",
     "metadata": {},
     "outputs": []
    }
   ],
   "metadata": {}
  }
 ]
}