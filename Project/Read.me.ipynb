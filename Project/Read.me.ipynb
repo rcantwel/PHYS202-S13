{
 "metadata": {
  "name": "Read.me"
 },
 "nbformat": 3,
 "nbformat_minor": 0,
 "worksheets": [
  {
   "cells": [
    {
     "cell_type": "markdown",
     "metadata": {},
     "source": [
      "###Project 3: Monte Carlo Glauber Model of Nuclear Interactions\n",
      "\n",
      "Ryan Cantwell\n",
      "May 15, 2013"
     ]
    },
    {
     "cell_type": "code",
     "collapsed": false,
     "input": [],
     "language": "python",
     "metadata": {},
     "outputs": []
    }
   ],
   "metadata": {}
  }
 ]
}