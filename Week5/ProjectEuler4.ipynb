{
 "metadata": {
  "name": "ProjectEuler4"
 },
 "nbformat": 3,
 "nbformat_minor": 0,
 "worksheets": [
  {
   "cells": [
    {
     "cell_type": "code",
     "collapsed": false,
     "input": [
      "def palindrome():\n",
      "    for x in range(100,1000):\n",
      "        for y in range(100,1000):\n",
      "            z = (x*y)\n",
      "            if z == len(6):\n",
      "                if z[0] == z[6] and z[1] == z[5]:\n",
      "                    print palindrome(z)\n",
      "                    return palindrome(z) "
     ],
     "language": "python",
     "metadata": {},
     "outputs": [],
     "prompt_number": 4
    },
    {
     "cell_type": "code",
     "collapsed": false,
     "input": [],
     "language": "python",
     "metadata": {},
     "outputs": []
    }
   ],
   "metadata": {}
  }
 ]
}