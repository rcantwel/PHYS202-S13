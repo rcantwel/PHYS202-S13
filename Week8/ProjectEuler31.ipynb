{
 "metadata": {
  "name": "ProjectEuler31"
 },
 "nbformat": 3,
 "nbformat_minor": 0,
 "worksheets": [
  {
   "cells": [
    {
     "cell_type": "code",
     "collapsed": false,
     "input": [
      "coin_values = [.1,.2,.5,.1,.2,.5,1,2]\n",
      "\n",
      "def potential_combos():\n",
      "    for x in coin_values:\n",
      "        if sum(coin_values) != 2.:\n",
      "            return false"
     ],
     "language": "python",
     "metadata": {},
     "outputs": [],
     "prompt_number": 5
    },
    {
     "cell_type": "code",
     "collapsed": false,
     "input": [],
     "language": "python",
     "metadata": {},
     "outputs": []
    }
   ],
   "metadata": {}
  }
 ]
}