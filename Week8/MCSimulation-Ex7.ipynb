{
 "metadata": {
  "name": "MCSimulation-Ex7"
 },
 "nbformat": 3,
 "nbformat_minor": 0,
 "worksheets": [
  {
   "cells": [
    {
     "cell_type": "markdown",
     "metadata": {},
     "source": [
      "###Problem 2: Weibull Distribution"
     ]
    },
    {
     "cell_type": "code",
     "collapsed": false,
     "input": [
      "f = lambda x,a,B: a*(B**-a)*x**(a-1)*e**(-(x/B)**a)\n",
      "F = lambda x,a,B: B**-1*(.5*log(x/a*B**-a)-log(a*(B**-a)*x**(a-1)*e**(-(x/B)**a))**1/a\n",
      "\n",
      "x = arange(0.0001, 10+0.001, 0.01)\n",
      "a = 1.5\n",
      "B = 6.\n",
      "plot(x,f(x,a,B),label='True distribution', lw=3)\n",
      "\n",
      "legend(loc=0)\n",
      "show()"
     ],
     "language": "python",
     "metadata": {},
     "outputs": [
      {
       "ename": "SyntaxError",
       "evalue": "invalid syntax (<ipython-input-4-78d86f490981>, line 4)",
       "output_type": "pyerr",
       "traceback": [
        "\u001b[1;36m  File \u001b[1;32m\"<ipython-input-4-78d86f490981>\"\u001b[1;36m, line \u001b[1;32m4\u001b[0m\n\u001b[1;33m    x = arange(0.0001, 10+0.001, 0.01)\u001b[0m\n\u001b[1;37m    ^\u001b[0m\n\u001b[1;31mSyntaxError\u001b[0m\u001b[1;31m:\u001b[0m invalid syntax\n"
       ]
      }
     ],
     "prompt_number": 4
    },
    {
     "cell_type": "code",
     "collapsed": false,
     "input": [],
     "language": "python",
     "metadata": {},
     "outputs": []
    }
   ],
   "metadata": {}
  }
 ]
}