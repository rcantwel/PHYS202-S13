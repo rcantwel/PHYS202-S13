{
 "metadata": {
  "name": "GraphicsEx2"
 },
 "nbformat": 3,
 "nbformat_minor": 0,
 "worksheets": [
  {
   "cells": [
    {
     "cell_type": "markdown",
     "metadata": {},
     "source": [
      "####Problem 1"
     ]
    },
    {
     "cell_type": "markdown",
     "metadata": {},
     "source": [
      "$ \\psi_k = A\\Biggl(\\cfrac{ik\u2212atanh(ax)}{ik + a} \\Biggr)e^+ikx $"
     ]
    },
    {
     "cell_type": "markdown",
     "metadata": {},
     "source": [
      "$ \\nu_1 = m_2 \\sqrt{\\cfrac{2G}{M} \\Biggl(\\cfrac{1}{r} - \\cfrac{1}{r_0}\\Biggr)} $"
     ]
    },
    {
     "cell_type": "markdown",
     "metadata": {},
     "source": [
      "$ f(\\theta) = \\cfrac{\\hslash}{p} \\displaystyle\\sum_{{\\ell = 0}}^{\\infty} (2\\ell + 1)e^{i\\delta\\ell}\\sin\\delta_\\ell{P_\\ell}(\\cos\\theta) $"
     ]
    },
    {
     "cell_type": "markdown",
     "metadata": {},
     "source": [
      "$ \\cfrac{d_\\sigma}{d_\\Omega} = \\cfrac{k\\pi^2(\\pi - \\theta)}{mu^2_0\\theta^2(2\\pi - \\theta)^2\\sin\\theta} $"
     ]
    },
    {
     "cell_type": "markdown",
     "metadata": {},
     "source": [
      "$ \\langle f \\rangle = \\cfrac{1}{\\tau}\\displaystyle\\int_{\\{0}}^\\tau f(t)dt. $"
     ]
    },
    {
     "cell_type": "markdown",
     "metadata": {},
     "source": [
      "$ \\Omega_S = \\omega\\cfrac{\\sin\\alpha}{\\sin\\theta} = \\cfrac{L}{\\lambda_1} = \\omega\\cfrac{\\sqrt{\\lambda_3^2 + (\\lambda_1^2 - \\lambda_3^2)\\sin\\alpha}}{\\lambda_1}$"
     ]
    },
    {
     "cell_type": "code",
     "collapsed": false,
     "input": [],
     "language": "python",
     "metadata": {},
     "outputs": []
    }
   ],
   "metadata": {}
  }
 ]
}