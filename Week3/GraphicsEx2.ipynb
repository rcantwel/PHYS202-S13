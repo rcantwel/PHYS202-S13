{
 "metadata": {
  "name": "GraphicsEx2"
 },
 "nbformat": 3,
 "nbformat_minor": 0,
 "worksheets": [
  {
   "cells": [
    {
     "cell_type": "markdown",
     "metadata": {},
     "source": [
      "####Problem 1"
     ]
    },
    {
     "cell_type": "markdown",
     "metadata": {},
     "source": [
      "$ \\psi_k = A\\Biggl(\\cfrac{ik\u2212atanh(ax)}{ik + a} \\Biggr)e^+ikx $"
     ]
    },
    {
     "cell_type": "markdown",
     "metadata": {},
     "source": [
      "$ \\nu_1 = m_2 \\sqrt{\\cfrac{2G}{M} \\Biggl(\\cfrac{1}{r} - \\cfrac{1}{r_0}\\Biggr)} $"
     ]
    },
    {
     "cell_type": "markdown",
     "metadata": {},
     "source": [
      "$ f(\\theta) = \\cfrac{\\hslash}{p} \\displaystyle\\sum_{{\\ell = 0}}^{\\infty} (2\\ell + 1)e^{i\\delta\\ell}\\sin\\delta_\\ell{P_\\ell}(\\cos\\theta) $"
     ]
    },
    {
     "cell_type": "markdown",
     "metadata": {},
     "source": [
      "$ \\cfrac{d_\\sigma}{d_\\Omega} = \\cfrac{k\\pi^2(\\pi - \\theta)}{mu^2_0\\theta^2(2\\pi - \\theta)^2\\sin\\theta} $"
     ]
    },
    {
     "cell_type": "markdown",
     "metadata": {},
     "source": [
      "$ \\langle f \\rangle = \\cfrac{1}{\\tau}\\displaystyle\\int_{\\{0}}^\\tau f(t)dt. $"
     ]
    },
    {
     "cell_type": "markdown",
     "metadata": {},
     "source": [
      "$ \\Omega_S = \\omega\\cfrac{\\sin\\alpha}{\\sin\\theta} = \\cfrac{L}{\\lambda_1} = \\omega\\cfrac{\\sqrt{\\lambda_3^2 + (\\lambda_1^2 - \\lambda_3^2)\\sin\\alpha}}{\\lambda_1}$"
     ]
    },
    {
     "cell_type": "markdown",
     "metadata": {},
     "source": [
      "####Problem 2"
     ]
    },
    {
     "cell_type": "code",
     "collapsed": false,
     "input": [
      "import numpy as np\n",
      "import math\n",
      "x = arange(-pi, pi, .1)\n",
      "print len(x)\n",
      "U = -1/((cosh(x))**2)\n",
      "plot(x,U,color=\"blue\",linewidth=2.5,label=\"$U(x)$\")\n",
      "xlabel(\"$x(rad)$\", fontsize=20)\n",
      "ylabel(\"$U(x), \\psi^2(x)$\",fontsize=20)\n",
      "\n",
      "grid(True)\n",
      "\n",
      "legend(loc = \"lower left\")"
     ],
     "language": "python",
     "metadata": {},
     "outputs": [
      {
       "output_type": "stream",
       "stream": "stdout",
       "text": [
        "63\n"
       ]
      },
      {
       "output_type": "pyout",
       "prompt_number": 60,
       "text": [
        "<matplotlib.legend.Legend at 0xe191a90>"
       ]
      },
      {
       "output_type": "display_data",
       "png": "[encoded data removed]"
      }
     ],
     "prompt_number": 60
    },
    {
     "cell_type": "markdown",
     "metadata": {},
     "source": [
      "####Problem 3"
     ]
    },
    {
     "cell_type": "code",
     "collapsed": false,
     "input": [
      "data = loadtxt(\"/nfshome/rcantwel/sunspots.txt\",float)\n",
      "x = data[:,0]\n",
      "y = data[:,1]"
     ],
     "language": "python",
     "metadata": {},
     "outputs": [],
     "prompt_number": 61
    },
    {
     "cell_type": "markdown",
     "metadata": {},
     "source": [
      "####Problem 4"
     ]
    },
    {
     "cell_type": "code",
     "collapsed": false,
     "input": [
      "data = loadtxt(\"/nfshome/rcantwel/stars.txt\", float)\n",
      "x = data[:,0]\n",
      "y = data[:,1]"
     ],
     "language": "python",
     "metadata": {},
     "outputs": [],
     "prompt_number": 66
    },
    {
     "cell_type": "markdown",
     "metadata": {},
     "source": [
      "####Problem 5"
     ]
    },
    {
     "cell_type": "code",
     "collapsed": false,
     "input": [],
     "language": "python",
     "metadata": {},
     "outputs": []
    }
   ],
   "metadata": {}
  }
 ]
}