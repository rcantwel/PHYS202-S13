{
 "metadata": {
  "name": "Project Euler 25"
 },
 "nbformat": 3,
 "nbformat_minor": 0,
 "worksheets": [
  {
   "cells": [
    {
     "cell_type": "code",
     "collapsed": false,
     "input": [
      "def Fibonacci(n):\n",
      "    if n <= 3:\n",
      "        return 1\n",
      "    else:\n",
      "        return Fibonacci(n-2) + Fibonacci(n-1)\n",
      "    if len(Fibonacci(n)) == 1000: \n",
      "        print n"
     ],
     "language": "python",
     "metadata": {},
     "outputs": [],
     "prompt_number": 7
    },
    {
     "cell_type": "code",
     "collapsed": false,
     "input": [],
     "language": "python",
     "metadata": {},
     "outputs": []
    }
   ],
   "metadata": {}
  }
 ]
}