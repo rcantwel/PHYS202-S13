{
 "metadata": {
  "name": "InterpAndDiffEx3"
 },
 "nbformat": 3,
 "nbformat_minor": 0,
 "worksheets": [
  {
   "cells": [
    {
     "cell_type": "markdown",
     "metadata": {},
     "source": [
      "###Problem 1"
     ]
    },
    {
     "cell_type": "code",
     "collapsed": false,
     "input": [
      "from Electrostatics import *\n",
      "x,y = meshgrid(arange(-5,5,0.5),arange(-5,5,0.5))\n",
      "Vdipole = dipolePotential(x,y,1e-9,2.);\n",
      "contour(x,y,Vdipole,cmap=cm.coolwarm)\n",
      "mask = (y==0)\n",
      "print dipolePotential(x,y==0,1e-9,2.)"
     ],
     "language": "python",
     "metadata": {},
     "outputs": [
      {
       "output_type": "stream",
       "stream": "stdout",
       "text": [
        "[[  0.74916667   0.93402597   1.19866667   1.59822222   2.2475       3.4247619\n",
        "    5.99333333  14.384               inf  11.98666667   0.         -11.98666667\n",
        "          -inf -14.384       -5.99333333  -3.4247619   -2.2475      -1.59822222\n",
        "   -1.19866667  -0.93402597]\n",
        " [  0.74916667   0.93402597   1.19866667   1.59822222   2.2475       3.4247619\n",
        "    5.99333333  14.384               inf  11.98666667   0.         -11.98666667\n",
        "          -inf -14.384       -5.99333333  -3.4247619   -2.2475      -1.59822222\n",
        "   -1.19866667  -0.93402597]\n",
        " [  0.74916667   0.93402597   1.19866667   1.59822222   2.2475       3.4247619\n",
        "    5.99333333  14.384               inf  11.98666667   0.         -11.98666667\n",
        "          -inf -14.384       -5.99333333  -3.4247619   -2.2475      -1.59822222\n",
        "   -1.19866667  -0.93402597]\n",
        " [  0.74916667   0.93402597   1.19866667   1.59822222   2.2475       3.4247619\n",
        "    5.99333333  14.384               inf  11.98666667   0.         -11.98666667\n",
        "          -inf -14.384       -5.99333333  -3.4247619   -2.2475      -1.59822222\n",
        "   -1.19866667  -0.93402597]\n",
        " [  0.74916667   0.93402597   1.19866667   1.59822222   2.2475       3.4247619\n",
        "    5.99333333  14.384               inf  11.98666667   0.         -11.98666667\n",
        "          -inf -14.384       -5.99333333  -3.4247619   -2.2475      -1.59822222\n",
        "   -1.19866667  -0.93402597]\n",
        " [  0.74916667   0.93402597   1.19866667   1.59822222   2.2475       3.4247619\n",
        "    5.99333333  14.384               inf  11.98666667   0.         -11.98666667\n",
        "          -inf -14.384       -5.99333333  -3.4247619   -2.2475      -1.59822222\n",
        "   -1.19866667  -0.93402597]\n",
        " [  0.74916667   0.93402597   1.19866667   1.59822222   2.2475       3.4247619\n",
        "    5.99333333  14.384               inf  11.98666667   0.         -11.98666667\n",
        "          -inf -14.384       -5.99333333  -3.4247619   -2.2475      -1.59822222\n",
        "   -1.19866667  -0.93402597]\n",
        " [  0.74916667   0.93402597   1.19866667   1.59822222   2.2475       3.4247619\n",
        "    5.99333333  14.384               inf  11.98666667   0.         -11.98666667\n",
        "          -inf -14.384       -5.99333333  -3.4247619   -2.2475      -1.59822222\n",
        "   -1.19866667  -0.93402597]\n",
        " [  0.74916667   0.93402597   1.19866667   1.59822222   2.2475       3.4247619\n",
        "    5.99333333  14.384               inf  11.98666667   0.         -11.98666667\n",
        "          -inf -14.384       -5.99333333  -3.4247619   -2.2475      -1.59822222\n",
        "   -1.19866667  -0.93402597]\n",
        " [  0.74916667   0.93402597   1.19866667   1.59822222   2.2475       3.4247619\n",
        "    5.99333333  14.384               inf  11.98666667   0.         -11.98666667\n",
        "          -inf -14.384       -5.99333333  -3.4247619   -2.2475      -1.59822222\n",
        "   -1.19866667  -0.93402597]\n",
        " [  0.70244837   0.86156285   1.07980356   1.38859736   1.84005495\n",
        "    2.51701182   3.51400235   4.70209827   4.96954978   3.05414568   0.\n",
        "   -3.05414568  -4.96954978  -4.70209827  -3.51400235  -2.51701182\n",
        "   -1.84005495  -1.38859736  -1.07980356  -0.86156285]\n",
        " [  0.74916667   0.93402597   1.19866667   1.59822222   2.2475       3.4247619\n",
        "    5.99333333  14.384               inf  11.98666667   0.         -11.98666667\n",
        "          -inf -14.384       -5.99333333  -3.4247619   -2.2475      -1.59822222\n",
        "   -1.19866667  -0.93402597]\n",
        " [  0.74916667   0.93402597   1.19866667   1.59822222   2.2475       3.4247619\n",
        "    5.99333333  14.384               inf  11.98666667   0.         -11.98666667\n",
        "          -inf -14.384       -5.99333333  -3.4247619   -2.2475      -1.59822222\n",
        "   -1.19866667  -0.93402597]\n",
        " [  0.74916667   0.93402597   1.19866667   1.59822222   2.2475       3.4247619\n",
        "    5.99333333  14.384               inf  11.98666667   0.         -11.98666667\n",
        "          -inf -14.384       -5.99333333  -3.4247619   -2.2475      -1.59822222\n",
        "   -1.19866667  -0.93402597]\n",
        " [  0.74916667   0.93402597   1.19866667   1.59822222   2.2475       3.4247619\n",
        "    5.99333333  14.384               inf  11.98666667   0.         -11.98666667\n",
        "          -inf -14.384       -5.99333333  -3.4247619   -2.2475      -1.59822222\n",
        "   -1.19866667  -0.93402597]\n",
        " [  0.74916667   0.93402597   1.19866667   1.59822222   2.2475       3.4247619\n",
        "    5.99333333  14.384               inf  11.98666667   0.         -11.98666667\n",
        "          -inf -14.384       -5.99333333  -3.4247619   -2.2475      -1.59822222\n",
        "   -1.19866667  -0.93402597]\n",
        " [  0.74916667   0.93402597   1.19866667   1.59822222   2.2475       3.4247619\n",
        "    5.99333333  14.384               inf  11.98666667   0.         -11.98666667\n",
        "          -inf -14.384       -5.99333333  -3.4247619   -2.2475      -1.59822222\n",
        "   -1.19866667  -0.93402597]\n",
        " [  0.74916667   0.93402597   1.19866667   1.59822222   2.2475       3.4247619\n",
        "    5.99333333  14.384               inf  11.98666667   0.         -11.98666667\n",
        "          -inf -14.384       -5.99333333  -3.4247619   -2.2475      -1.59822222\n",
        "   -1.19866667  -0.93402597]\n",
        " [  0.74916667   0.93402597   1.19866667   1.59822222   2.2475       3.4247619\n",
        "    5.99333333  14.384               inf  11.98666667   0.         -11.98666667\n",
        "          -inf -14.384       -5.99333333  -3.4247619   -2.2475      -1.59822222\n",
        "   -1.19866667  -0.93402597]\n",
        " [  0.74916667   0.93402597   1.19866667   1.59822222   2.2475       3.4247619\n",
        "    5.99333333  14.384               inf  11.98666667   0.         -11.98666667\n",
        "          -inf -14.384       -5.99333333  -3.4247619   -2.2475      -1.59822222\n",
        "   -1.19866667  -0.93402597]]\n"
       ]
      },
      {
       "output_type": "display_data",
       "png": "[encoded data removed]"
      }
     ],
     "prompt_number": 1
    },
    {
     "cell_type": "markdown",
     "metadata": {},
     "source": [
      "###Problem 2"
     ]
    },
    {
     "cell_type": "code",
     "collapsed": false,
     "input": [
      "def Temp(Resistance): \n",
      "    if Resistance == 3.239e6: \n",
      "        return 10\n",
      "    if Resistance == 3.118e6: \n",
      "        return 11 \n",
      "    if Resistance == 3.004e6: \n",
      "        return 12\n",
      "    if Resistance == 2.897e6: \n",
      "        return 13\n",
      "    if Resistance == 2.795e6: \n",
      "        return 14\n",
      "    if Resistance == 2.700e6: \n",
      "        return 15\n",
      "    if Resistance == 2.610e6: \n",
      "        return 16\n",
      "    if Resistance == 2.526e6: \n",
      "        return 17  \n",
      "    if Resistance == 2.446e6: \n",
      "        return 18\n",
      "    if Resistance == 2.371e6: \n",
      "        return 19\n",
      "    if Resistance == 2.300e6: \n",
      "        return 20\n",
      "    if Resistance ==  2.233e6: \n",
      "        return 21\n",
      "    if Resistance == 2.169e6:\n",
      "        return 22\n",
      "    if Resistance == 2.110e6: \n",
      "        return 23\n",
      "    if Resistance == 2.053e6: \n",
      "        return 24\n",
      "    if Resistance == 2.000e6: \n",
      "        return 25\n",
      "    if Resistance == 1.950e6:\n",
      "        return 26\n",
      "    if Resistance == 1.902e6: \n",
      "        return 27\n",
      "    if Resistance == 1.857e6: \n",
      "        return 28\n",
      "    if Resistance == 1.815e6: \n",
      "        return 29\n",
      "    if Resistance == 1.774e6: \n",
      "        return 30\n",
      "    if Resistance == 1.736e6: \n",
      "        return 31\n",
      "    if Resistance == 1.700e6: \n",
      "        return 32\n",
      "    if Resistance == 1.666e6:\n",
      "        return 33\n",
      "    if Resistance == 1.634e6:\n",
      "        return 34\n",
      "    if Resistance == 1.603e6:\n",
      "        return 35\n",
      "    if Resistance == 1.574e6:\n",
      "        return 36\n",
      "    if Resistance == 1.547e6:\n",
      "        return 37\n",
      "    if Resistance == 1.521e6:\n",
      "        return 38\n",
      "    if Resistance == 1.496e6:\n",
      "        return 39\n",
      "print Temp(1.547e6) \n",
      "print Temp(1.736e6) \n",
      "print Temp(1.634e6)"
     ],
     "language": "python",
     "metadata": {},
     "outputs": [
      {
       "output_type": "stream",
       "stream": "stdout",
       "text": [
        "37\n",
        "31\n",
        "34\n"
       ]
      }
     ],
     "prompt_number": 12
    },
    {
     "cell_type": "markdown",
     "metadata": {},
     "source": [
      "###Problem 3"
     ]
    },
    {
     "cell_type": "code",
     "collapsed": false,
     "input": [
      "import math \n",
      "def finiteDifference(x,y):\n",
      "\n",
      "    \n",
      "return dydx"
     ],
     "language": "python",
     "metadata": {},
     "outputs": [],
     "prompt_number": 18
    },
    {
     "cell_type": "markdown",
     "metadata": {},
     "source": [
      "###Problem 4"
     ]
    },
    {
     "cell_type": "code",
     "collapsed": false,
     "input": [
      "x = linspace(0,2*pi,100)\n",
      "y = sin(x) + 0.1*random.random(size=x.shape)\n",
      "plot(x,y)"
     ],
     "language": "python",
     "metadata": {},
     "outputs": [
      {
       "output_type": "pyout",
       "prompt_number": 17,
       "text": [
        "[<matplotlib.lines.Line2D at 0x32bb750>]"
       ]
      },
      {
       "output_type": "display_data",
       "png": "[encoded data removed]"
      }
     ],
     "prompt_number": 17
    },
    {
     "cell_type": "code",
     "collapsed": false,
     "input": [],
     "language": "python",
     "metadata": {},
     "outputs": []
    }
   ],
   "metadata": {}
  }
 ]
}