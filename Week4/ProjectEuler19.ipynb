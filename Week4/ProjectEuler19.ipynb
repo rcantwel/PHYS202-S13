{
 "metadata": {
  "name": "ProjectEuler19"
 },
 "nbformat": 3,
 "nbformat_minor": 0,
 "worksheets": [
  {
   "cells": [
    {
     "cell_type": "code",
     "collapsed": false,
     "input": [
      "def number_days(month, year):\n",
      "    for month in range(1, 13):\n",
      "        for year in range(1901, 2001):\n",
      "            if month == 1 or month == 3 or month == 5 or month == 7 or month == 8 or month == 10 or month == 12:\n",
      "                d = 31\n",
      "                print d\n",
      "                return d\n",
      "    \n",
      "    if month == 4 or month == 6 or month == 9 or month == 11:\n",
      "        d = 30\n",
      "        print d\n",
      "        return d\n",
      "    \n",
      "    if month == 2:\n",
      "        if year % 4 == 0 and year % 100 == 0 and year % 400 == 0:  \n",
      "            d = 29\n",
      "            print d\n",
      "            return d\n",
      "    \n",
      "    if month == 2 and year % 4 !=0:\n",
      "        d = 28\n",
      "        print d\n",
      "        return d\n",
      "        print number_days(10, 1976)\n",
      "        "
     ],
     "language": "python",
     "metadata": {},
     "outputs": [],
     "prompt_number": 3
    },
    {
     "cell_type": "code",
     "collapsed": false,
     "input": [],
     "language": "python",
     "metadata": {},
     "outputs": [],
     "prompt_number": 11
    },
    {
     "cell_type": "code",
     "collapsed": false,
     "input": [],
     "language": "python",
     "metadata": {},
     "outputs": []
    }
   ],
   "metadata": {}
  }
 ]
}