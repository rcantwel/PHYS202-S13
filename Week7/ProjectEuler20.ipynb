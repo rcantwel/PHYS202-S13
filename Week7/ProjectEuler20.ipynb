{
 "metadata": {
  "name": "ProjectEuler20"
 },
 "nbformat": 3,
 "nbformat_minor": 0,
 "worksheets": [
  {
   "cells": [
    {
     "cell_type": "code",
     "collapsed": false,
     "input": [
      "def factorial(n):   \n",
      "    if n > 1:\n",
      "        return n * factorial(n-1)\n",
      "    else: \n",
      "        return 1\n",
      "print factorial(10)\n",
      "print factorial(4)\n",
      "\n",
      "def factorial_sum(x):\n",
      "    for i in factorial(n):\n",
      "        return sum(factorial(n))\n",
      "\n"
     ],
     "language": "python",
     "metadata": {},
     "outputs": [
      {
       "output_type": "stream",
       "stream": "stdout",
       "text": [
        "3628800\n",
        "24\n"
       ]
      }
     ],
     "prompt_number": 5
    },
    {
     "cell_type": "code",
     "collapsed": false,
     "input": [],
     "language": "python",
     "metadata": {},
     "outputs": []
    }
   ],
   "metadata": {}
  }
 ]
}