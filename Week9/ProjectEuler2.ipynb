{
 "metadata": {
  "name": "ProjectEuler2"
 },
 "nbformat": 3,
 "nbformat_minor": 0,
 "worksheets": [
  {
   "cells": [
    {
     "cell_type": "code",
     "collapsed": false,
     "input": [
      "def even_fib(n):\n",
      "    if n == 1:\n",
      "        return 1\n",
      "    if n > 2:\n",
      "        return n1 + n2 \n",
      "\n",
      "def even_sum(n1,n2): \n",
      "    if n1+n2 %2 !=0: \n",
      "        return \"false\"\n",
      "    else: \n",
      "        return sum(n1+n2)"
     ],
     "language": "python",
     "metadata": {},
     "outputs": [],
     "prompt_number": 4
    },
    {
     "cell_type": "code",
     "collapsed": false,
     "input": [],
     "language": "python",
     "metadata": {},
     "outputs": []
    }
   ],
   "metadata": {}
  }
 ]
}